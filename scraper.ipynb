{
 "cells": [
  {
   "cell_type": "markdown",
   "metadata": {},
   "source": [
    "# Ceneo Scraper"
   ]
  },
  {
   "cell_type": "markdown",
   "metadata": {},
   "source": [
    "## Imports"
   ]
  },
  {
   "cell_type": "code",
   "execution_count": 14,
   "metadata": {},
   "outputs": [],
   "source": [
    "import requests\n",
    "from bs4 import BeautifulSoup"
   ]
  },
  {
   "cell_type": "markdown",
   "metadata": {},
   "source": [
    "## Send request to Ceneo.pl service"
   ]
  },
  {
   "cell_type": "code",
   "execution_count": 10,
   "metadata": {},
   "outputs": [
    {
     "data": {
      "text/plain": [
       "200"
      ]
     },
     "execution_count": 10,
     "metadata": {},
     "output_type": "execute_result"
    }
   ],
   "source": [
    "\n",
    "product_id = '108290707'\n",
    "url = f'https://www.ceneo.pl/{product_id}#tab=reviews'\n",
    "response = requests.get(url)\n",
    "response.status_code\n",
    "#print(response.text)"
   ]
  },
  {
   "cell_type": "markdown",
   "metadata": {},
   "source": [
    "# Convert plain text HTML code into DOM structure"
   ]
  },
  {
   "cell_type": "code",
   "execution_count": null,
   "metadata": {},
   "outputs": [],
   "source": [
    "page_dom = BeautifulSoup(response.text, \"html.parser\")\n",
    "print(type(page_dom))\n",
    "opinions =page_dom.select('div.js_product-review')\n",
    "#print(type(opinions))\n",
    "opinion =page_dom.select_one('div.js_product-review')\n",
    "print(type(opinion))\n",
    "print(opinions)"
   ]
  },
  {
   "cell_type": "markdown",
   "metadata": {},
   "source": [
    "## Extract components for single opinion\n",
    "\n",
    "|Component|Selector|Variable|\n",
    "|---------|--------|--------|\n",
    "|opinion ID|[\"data-entry-id\"]|opinion_id|\n",
    "|opinion’s author|span.user-post__author-name|author|\n",
    "|author’s recommendation|span.user-post__author-recomendation > em|recomendation|\n",
    "|score expressed in number of stars|user-post__score-count|stars|\n",
    "|opinion’s content|div.user-post__text|content|\n",
    "|list of product advantages|div.review-feature__title--positives ~ div.review-feature__item|pros|\n",
    "|list of product disadvantages|div.review-feature__title--negatives ~ div.review-feature__item|cons|\n",
    "|how many users think that opinion was helpful|button.vote-yes > span|helpful|\n",
    "|how many users think that opinion was unhelpful|button.vote-no > span|unhelpful|\n",
    "|publishing date|span.user-post__published > time:nth-child(1)['datetime']|publish_date|\n",
    "|purchase date|span.user-post__published > time:nth-child(2)[datatime]|purchase_date |"
   ]
  },
  {
   "cell_type": "code",
   "execution_count": null,
   "metadata": {},
   "outputs": [],
   "source": [
    "opinion_id = opinions[\"data-entry-id\"]\n",
    "author = "
   ]
  }
 ],
 "metadata": {
  "kernelspec": {
   "display_name": ".venv",
   "language": "python",
   "name": "python3"
  },
  "language_info": {
   "codemirror_mode": {
    "name": "ipython",
    "version": 3
   },
   "file_extension": ".py",
   "mimetype": "text/x-python",
   "name": "python",
   "nbconvert_exporter": "python",
   "pygments_lexer": "ipython3",
   "version": "3.12.0"
  }
 },
 "nbformat": 4,
 "nbformat_minor": 2
}
