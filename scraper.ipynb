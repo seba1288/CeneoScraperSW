{
 "cells": [
  {
   "cell_type": "markdown",
   "metadata": {},
   "source": [
    "# Ceneo Scraper"
   ]
  },
  {
   "cell_type": "markdown",
   "metadata": {},
   "source": [
    "## Extract components of single opinion\n",
    "\n",
    "|Component|Selector|Variable|\n",
    "|---------|--------|--------|\n",
    "|opinion ID|[\"data-entry-id\"]|opinion_id|\n",
    "|opinion’s author|span.user-post__author-name|author|\n",
    "|author’s recommendation|span.user-post__author-recomendation > em|recomendation|\n",
    "|score expressed in number of stars|user-post__score-count|stars|\n",
    "|opinion’s content|div.user-post__text|content|\n",
    "|list of product advantages|div.review-feature__title--positives ~ div.review-feature__item|pros|\n",
    "|list of product disadvantages|div.review-feature__title--negatives ~ div.review-feature__item|cons|\n",
    "|how many users think that opinion was helpful|button.vote-yes > span|helpful|\n",
    "|how many users think that opinion was unhelpful|button.vote-no > span|unhelpful|\n",
    "|publishing date|span.user-post__published > time:nth-child(1)['datetime']|publish_date|\n",
    "|purchase date|span.user-post__published > time:nth-child(2)[datatime]|purchase_date |"
   ]
  },
  {
   "cell_type": "markdown",
   "metadata": {},
   "source": [
    "## Imports"
   ]
  },
  {
   "cell_type": "code",
   "execution_count": null,
   "metadata": {},
   "outputs": [],
   "source": [
    "import requests\n",
    "from bs4 import BeautifulSoup"
   ]
  },
  {
   "cell_type": "markdown",
   "metadata": {},
   "source": [
    "# Fucntions of extraction"
   ]
  },
  {
   "cell_type": "code",
   "execution_count": null,
   "metadata": {},
   "outputs": [],
   "source": [
    "def extract_content(ancestor,selector=None,attribute=None,return_list=False):\n",
    "    if selector:\n",
    "        if return_list:\n",
    "            if attribute:\n",
    "                return [tag[attribute].strip()  for  tag in ancestor.select(selector)]\n",
    "            return [tag.text.strip()  for  tag in ancestor.select(selector)]\n",
    "        if attribute:\n",
    "            try:\n",
    "                return ancestor.select_one(selector)[attribute].strip()\n",
    "            except TypeError:\n",
    "                return None\n",
    "        return ancestor.select_one(selector).text.strip()\n",
    "    if attribute:\n",
    "        return ancestor[attribute]\n",
    "    return ancestor.text.strip()\n"
   ]
  },
  {
   "cell_type": "markdown",
   "metadata": {},
   "source": [
    "## Opinion structure\n"
   ]
  },
  {
   "cell_type": "code",
   "execution_count": null,
   "metadata": {},
   "outputs": [],
   "source": [
    "selectors = {\n",
    "    'opinion_id': (None,\"data-entry-id\",),\n",
    "    'author': ('span.user-post__author-name',),\n",
    "    'recomendation': ('span.user-post__author-recomendation > em',),\n",
    "    'stars': ('span.user-post__score-count',),\n",
    "    'content': ('div.user-post__text',),\n",
    "    'pros': ('div.review-feature__title--positives ~ div.review-feature__item',None,True),\n",
    "    'cons': ('div.review-feature__title--negatives ~ div.review-feature__item',None,True),\n",
    "    'helpful': ('button.vote-yes > span',),\n",
    "    'unhelpful': ('button.vote-no > span',),\n",
    "    'publish_date': (\"span.user-post__published > time:nth-child(1)\",'datetime'),\n",
    "    'purchase_date': (\"span.user-post__published > time:nth-child(2)\",'datetime'),\n",
    "}\n",
    "\n"
   ]
  },
  {
   "cell_type": "markdown",
   "metadata": {},
   "source": [
    "## Send request to Ceneo.pl service"
   ]
  },
  {
   "cell_type": "code",
   "execution_count": null,
   "metadata": {},
   "outputs": [],
   "source": [
    "\n",
    "product_id = '108290707'\n",
    "url = f'https://www.ceneo.pl/{product_id}#tab=reviews'\n",
    "response = requests.get(url)\n",
    "response.status_code\n",
    "#print(response.text)"
   ]
  },
  {
   "cell_type": "markdown",
   "metadata": {},
   "source": [
    "# Convert plain text HTML code into DOM structure"
   ]
  },
  {
   "cell_type": "code",
   "execution_count": null,
   "metadata": {},
   "outputs": [],
   "source": [
    "page_dom = BeautifulSoup(response.text, \"html.parser\")\n",
    "opinions =page_dom.select('div.js_product-review')\n",
    "opinion =page_dom.select_one('div.js_product-review')\n"
   ]
  },
  {
   "cell_type": "markdown",
   "metadata": {},
   "source": [
    "## extract all components of single opinion \n"
   ]
  },
  {
   "cell_type": "code",
   "execution_count": null,
   "metadata": {},
   "outputs": [],
   "source": [
    "single_opinion = {\n",
    "    key: extract_content(opinion, *value)\n",
    "        for key, value in selectors.items()\n",
    "}\n",
    "print(single_opinion)"
   ]
  }
 ],
 "metadata": {
  "kernelspec": {
   "display_name": ".venv",
   "language": "python",
   "name": "python3"
  },
  "language_info": {
   "codemirror_mode": {
    "name": "ipython",
    "version": 3
   },
   "file_extension": ".py",
   "mimetype": "text/x-python",
   "name": "python",
   "nbconvert_exporter": "python",
   "pygments_lexer": "ipython3",
   "version": "3.12.0"
  }
 },
 "nbformat": 4,
 "nbformat_minor": 2
}
